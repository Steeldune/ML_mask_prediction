{
 "cells": [
  {
   "cell_type": "markdown",
   "metadata": {
    "collapsed": true,
    "pycharm": {
     "name": "#%% md\n"
    }
   },
   "source": [
    "---\n",
    "Using the model\n",
    "===\n",
    "\n",
    "In this notebook, the parameters for using a model are tuned, before activating a prediction."
   ]
  },
  {
   "cell_type": "code",
   "execution_count": 3,
   "outputs": [
    {
     "ename": "ValueError",
     "evalue": "Cannot set memory growth on device when virtual devices configured",
     "output_type": "error",
     "traceback": [
      "\u001B[1;31m---------------------------------------------------------------------------\u001B[0m",
      "\u001B[1;31mValueError\u001B[0m                                Traceback (most recent call last)",
      "\u001B[1;32m<ipython-input-3-9b62ab90ae7e>\u001B[0m in \u001B[0;36m<module>\u001B[1;34m\u001B[0m\n\u001B[0;32m      3\u001B[0m \u001B[1;33m\u001B[0m\u001B[0m\n\u001B[0;32m      4\u001B[0m \u001B[0mdevice\u001B[0m \u001B[1;33m=\u001B[0m \u001B[0mtf\u001B[0m\u001B[1;33m.\u001B[0m\u001B[0mconfig\u001B[0m\u001B[1;33m.\u001B[0m\u001B[0mlist_physical_devices\u001B[0m\u001B[1;33m(\u001B[0m\u001B[1;34m'GPU'\u001B[0m\u001B[1;33m)\u001B[0m\u001B[1;33m\u001B[0m\u001B[1;33m\u001B[0m\u001B[0m\n\u001B[1;32m----> 5\u001B[1;33m \u001B[0mtf\u001B[0m\u001B[1;33m.\u001B[0m\u001B[0mconfig\u001B[0m\u001B[1;33m.\u001B[0m\u001B[0mexperimental\u001B[0m\u001B[1;33m.\u001B[0m\u001B[0mset_memory_growth\u001B[0m\u001B[1;33m(\u001B[0m\u001B[0mdevice\u001B[0m\u001B[1;33m[\u001B[0m\u001B[1;36m0\u001B[0m\u001B[1;33m]\u001B[0m\u001B[1;33m,\u001B[0m \u001B[1;32mTrue\u001B[0m\u001B[1;33m)\u001B[0m\u001B[1;33m\u001B[0m\u001B[1;33m\u001B[0m\u001B[0m\n\u001B[0m\u001B[0;32m      6\u001B[0m \u001B[0mtf\u001B[0m\u001B[1;33m.\u001B[0m\u001B[0mconfig\u001B[0m\u001B[1;33m.\u001B[0m\u001B[0mexperimental\u001B[0m\u001B[1;33m.\u001B[0m\u001B[0mset_virtual_device_configuration\u001B[0m\u001B[1;33m(\u001B[0m\u001B[0mdevice\u001B[0m\u001B[1;33m[\u001B[0m\u001B[1;36m0\u001B[0m\u001B[1;33m]\u001B[0m\u001B[1;33m,\u001B[0m \u001B[1;33m[\u001B[0m\u001B[0mtf\u001B[0m\u001B[1;33m.\u001B[0m\u001B[0mconfig\u001B[0m\u001B[1;33m.\u001B[0m\u001B[0mexperimental\u001B[0m\u001B[1;33m.\u001B[0m\u001B[0mVirtualDeviceConfiguration\u001B[0m\u001B[1;33m(\u001B[0m\u001B[0mmemory_limit\u001B[0m\u001B[1;33m=\u001B[0m\u001B[1;36m1024\u001B[0m\u001B[1;33m*\u001B[0m\u001B[1;36m6\u001B[0m\u001B[1;33m)\u001B[0m\u001B[1;33m]\u001B[0m\u001B[1;33m)\u001B[0m\u001B[1;33m\u001B[0m\u001B[1;33m\u001B[0m\u001B[0m\n\u001B[0;32m      7\u001B[0m \u001B[1;33m\u001B[0m\u001B[0m\n",
      "\u001B[1;32mX:\\NewConda\\lib\\site-packages\\tensorflow\\python\\framework\\config.py\u001B[0m in \u001B[0;36mset_memory_growth\u001B[1;34m(device, enable)\u001B[0m\n\u001B[0;32m    659\u001B[0m     \u001B[0mRuntimeError\u001B[0m\u001B[1;33m:\u001B[0m \u001B[0mRuntime\u001B[0m \u001B[1;32mis\u001B[0m \u001B[0malready\u001B[0m \u001B[0minitialized\u001B[0m\u001B[1;33m.\u001B[0m\u001B[1;33m\u001B[0m\u001B[1;33m\u001B[0m\u001B[0m\n\u001B[0;32m    660\u001B[0m   \"\"\"\n\u001B[1;32m--> 661\u001B[1;33m   \u001B[0mcontext\u001B[0m\u001B[1;33m.\u001B[0m\u001B[0mcontext\u001B[0m\u001B[1;33m(\u001B[0m\u001B[1;33m)\u001B[0m\u001B[1;33m.\u001B[0m\u001B[0mset_memory_growth\u001B[0m\u001B[1;33m(\u001B[0m\u001B[0mdevice\u001B[0m\u001B[1;33m,\u001B[0m \u001B[0menable\u001B[0m\u001B[1;33m)\u001B[0m\u001B[1;33m\u001B[0m\u001B[1;33m\u001B[0m\u001B[0m\n\u001B[0m\u001B[0;32m    662\u001B[0m \u001B[1;33m\u001B[0m\u001B[0m\n\u001B[0;32m    663\u001B[0m \u001B[1;33m\u001B[0m\u001B[0m\n",
      "\u001B[1;32mX:\\NewConda\\lib\\site-packages\\tensorflow\\python\\eager\\context.py\u001B[0m in \u001B[0;36mset_memory_growth\u001B[1;34m(self, dev, enable)\u001B[0m\n\u001B[0;32m   1468\u001B[0m \u001B[1;33m\u001B[0m\u001B[0m\n\u001B[0;32m   1469\u001B[0m     \u001B[1;32mif\u001B[0m \u001B[0mdev\u001B[0m \u001B[1;32min\u001B[0m \u001B[0mself\u001B[0m\u001B[1;33m.\u001B[0m\u001B[0m_virtual_device_map\u001B[0m\u001B[1;33m:\u001B[0m\u001B[1;33m\u001B[0m\u001B[1;33m\u001B[0m\u001B[0m\n\u001B[1;32m-> 1470\u001B[1;33m       raise ValueError(\n\u001B[0m\u001B[0;32m   1471\u001B[0m           \"Cannot set memory growth on device when virtual devices configured\")\n\u001B[0;32m   1472\u001B[0m \u001B[1;33m\u001B[0m\u001B[0m\n",
      "\u001B[1;31mValueError\u001B[0m: Cannot set memory growth on device when virtual devices configured"
     ]
    }
   ],
   "source": [
    "import mask_prediction.unet_semantics as model_setup\n",
    "import tensorflow as tf\n",
    "\n",
    "device = tf.config.list_physical_devices('GPU')\n",
    "tf.config.experimental.set_memory_growth(device[0], True)\n",
    "tf.config.experimental.set_virtual_device_configuration(device[0], [tf.config.experimental.VirtualDeviceConfiguration(memory_limit=1024*6)])\n",
    "\n",
    "model_folder = 'X:\\\\BEP_data\\\\Data_Internal\\\\Train_Masks\\\\Predict_set\\\\Model'\n",
    "model_name = 'zebra_zoom3_15'\n",
    "sections = [1,2,3,4,5]\n",
    "glob_str_ini = '*_*_*.png'\n",
    "\n",
    "mask_folder = 'X:\\\\BEP_data\\\\Data_External\\\\RL015\\\\PPA'       #Folder containing manually annotated masks\n",
    "em_folder = 'X:\\\\BEP_data\\\\Data_External\\\\RL015\\\\EM\\\\Collected_3'\n",
    "ho_folder = 'X:\\\\BEP_data\\\\Data_External\\\\RL015\\\\Hoechst\\\\Collected_3'\n",
    "\n",
    "gen_folder = 'X:\\\\BEP_data\\\\Data_Internal\\\\Train_masks'\n",
    "\n",
    "predict_folder = gen_folder + '\\\\Predict_set'\n",
    "train_folder = gen_folder + '\\\\Train_set'#Folder from which the model will collect training images\n",
    "test_folder = gen_folder + '\\\\Test_set'   #Folder from which the model will collect validation images\n",
    "data_paths = (train_folder, test_folder, em_folder, ho_folder, mask_folder)"
   ],
   "metadata": {
    "collapsed": false,
    "pycharm": {
     "name": "#%%\n"
    }
   }
  },
  {
   "cell_type": "code",
   "execution_count": null,
   "outputs": [
    {
     "name": "stdout",
     "output_type": "stream",
     "text": [
      "Currently Working on section 1\n",
      "Found 89 images belonging to 1 classes.\n",
      "Currently Working on section 2\n",
      "Found 96 images belonging to 1 classes.\n",
      "Currently Working on section 3\n",
      "Found 96 images belonging to 1 classes.\n",
      "Currently Working on section 4\n",
      "Found 82 images belonging to 1 classes.\n",
      "Currently Working on section 5\n",
      "Found 99 images belonging to 1 classes.\n"
     ]
    }
   ],
   "source": [
    "#First the predict set folder has to be empty of images\n",
    "\n",
    "for section in sections:\n",
    "    glob_str = str(section) + '_' + glob_str_ini\n",
    "    print('Currently Working on section {}'.format(section))\n",
    "    model_setup.scandirs(predict_folder + '\\\\Input')\n",
    "    model_setup.Use_Model(model_folder + '\\\\' + model_name, em_folder, ho_folder, glob_str, only_EM=False,\n",
    "          normalize=True, export_path= predict_folder + '\\\\')\n",
    "    model_setup.backup_data(data_paths, glob_str, model_name, predict_folder, gen_folder + '\\\\Predict_backups')\n"
   ],
   "metadata": {
    "collapsed": false,
    "pycharm": {
     "name": "#%%\n"
    }
   }
  }
 ],
 "metadata": {
  "kernelspec": {
   "name": "pycharm-e1d12fd9",
   "language": "python",
   "display_name": "PyCharm (GPU_BEP_PRACTICE)"
  },
  "language_info": {
   "codemirror_mode": {
    "name": "ipython",
    "version": 2
   },
   "file_extension": ".py",
   "mimetype": "text/x-python",
   "name": "python",
   "nbconvert_exporter": "python",
   "pygments_lexer": "ipython2",
   "version": "2.7.6"
  }
 },
 "nbformat": 4,
 "nbformat_minor": 0
}