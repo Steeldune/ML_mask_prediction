{
 "cells": [
  {
   "cell_type": "markdown",
   "metadata": {
    "collapsed": true,
    "pycharm": {
     "name": "#%% md\n"
    }
   },
   "source": [
    "---\n",
    "Using the model\n",
    "===\n",
    "\n",
    "In this notebook, the parameters for using a model are tuned, before activating a prediction."
   ]
  },
  {
   "cell_type": "code",
   "execution_count": 1,
   "outputs": [],
   "source": [
    "import mask_prediction.unet_semantics as model_setup\n",
    "import tensorflow as tf\n",
    "\n",
    "device = tf.config.list_physical_devices('GPU')\n",
    "tf.config.experimental.set_memory_growth(device[0], True)\n",
    "tf.config.experimental.set_virtual_device_configuration(device[0], [tf.config.experimental.VirtualDeviceConfiguration(memory_limit=1024*6)])\n",
    "\n",
    "predict_folder = 'X:\\\\BEP_data\\\\Data_Internal\\\\Qu_Iteration\\\\Predict_set'\n",
    "model_name = 'zebra_zoom2_test_final'\n",
    "sections = [1]\n",
    "glob_str_ini = '*_*_*.png'\n",
    "dataset = 'RL015'\n",
    "\n",
    "mask_folder = 'X:\\\\BEP_data\\\\Data_External\\\\RL015\\\\PPA_Upscale'       #Folder containing manually annotated masks\n",
    "train_folder = 'X:\\\\BEP_data\\\\Data_Internal\\\\Qu_Iteration\\\\Train_set'#Folder from which the model will collect training images\n",
    "test_folder = 'X:\\\\BEP_data\\\\Data_Internal\\\\Qu_Iteration\\\\Test_set'   #Folder from which the model will collect validation images\n",
    "em_folder = 'X:\\\\BEP_data\\\\Data_External\\\\RL015\\\\EM\\\\Collected'\n",
    "ho_folder = 'X:\\\\BEP_data\\\\Data_External\\\\RL015\\\\Hoechst\\\\Collected'\n",
    "data_paths = (train_folder, test_folder, em_folder, ho_folder, mask_folder)"
   ],
   "metadata": {
    "collapsed": false,
    "pycharm": {
     "name": "#%%\n"
    }
   }
  },
  {
   "cell_type": "code",
   "execution_count": null,
   "outputs": [
    {
     "name": "stdout",
     "output_type": "stream",
     "text": [
      "Currently Working on section 1\n",
      "Found 314 images belonging to 1 classes.\n"
     ]
    }
   ],
   "source": [
    "#First the predict set folder has to be empty of images\n",
    "\n",
    "for section in sections:\n",
    "    glob_str = str(section) + '_' + glob_str_ini\n",
    "    print('Currently Working on section {}'.format(section))\n",
    "    model_setup.scandirs(predict_folder + '\\\\Input')\n",
    "    model_setup.Use_Model('X:\\\\BEP_Project\\\\Models\\\\{}'.format(model_name), em_folder, ho_folder, glob_str, only_EM=False,\n",
    "          normalize=True, export_path= predict_folder + '\\\\')\n",
    "    model_setup.backup_data(data_paths, glob_str, model_name, predict_folder, 'X:\\\\BEP_data\\\\Data_Internal\\\\Qu_Iteration\\\\Predict_Backups')\n"
   ],
   "metadata": {
    "collapsed": false,
    "pycharm": {
     "name": "#%%\n",
     "is_executing": true
    }
   }
  }
 ],
 "metadata": {
  "kernelspec": {
   "name": "pycharm-e1d12fd9",
   "language": "python",
   "display_name": "PyCharm (GPU_BEP_PRACTICE)"
  },
  "language_info": {
   "codemirror_mode": {
    "name": "ipython",
    "version": 2
   },
   "file_extension": ".py",
   "mimetype": "text/x-python",
   "name": "python",
   "nbconvert_exporter": "python",
   "pygments_lexer": "ipython2",
   "version": "2.7.6"
  }
 },
 "nbformat": 4,
 "nbformat_minor": 0
}