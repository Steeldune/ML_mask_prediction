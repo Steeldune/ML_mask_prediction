{
 "cells": [
  {
   "cell_type": "markdown",
   "metadata": {
    "collapsed": true,
    "pycharm": {
     "name": "#%% md\n"
    }
   },
   "source": [
    "---\n",
    "Using the model\n",
    "===\n",
    "\n",
    "In this notebook, the parameters for using a model are tuned, before activating a prediction."
   ]
  },
  {
   "cell_type": "code",
   "execution_count": 1,
   "outputs": [],
   "source": [
    "import mask_prediction.unet_semantics as model_setup\n",
    "\n",
    "ini_data_path = 'X:\\\\BEP_data\\\\'        #File containing data structure\n",
    "model_name = 'gen_entr_clus4_0'\n",
    "glob_str = '*.png'\n",
    "dataset = 'RL012'"
   ],
   "metadata": {
    "collapsed": false,
    "pycharm": {
     "name": "#%%\n"
    }
   }
  },
  {
   "cell_type": "code",
   "execution_count": 2,
   "outputs": [
    {
     "name": "stdout",
     "output_type": "stream",
     "text": [
      "Found 138 images belonging to 1 classes.\n"
     ]
    }
   ],
   "source": [
    "#First the predict set folder has to be empty of images\n",
    "model_setup.scandirs('X:\\\\BEP_data\\\\Predict_set')\n",
    "\n",
    "model_setup.Use_Model('X:\\\\BEP_Project\\\\Models\\\\{}'.format(model_name), ini_data_path, glob_str, dataset, only_EM=False,\n",
    "          normalize=True)\n",
    "\n",
    "\n",
    "\n",
    "mask_folder = 'X:\\\\BEP_data\\\\RL012\\\\Manual Masks\\\\'.format(dataset)       #Folder containing manually annotated masks\n",
    "train_folder = 'X:\\\\BEP_data\\\\Train_set'#Folder from which the model will collect training images\n",
    "test_folder = 'X:\\\\BEP_data\\\\Test_set'   #Folder from which the model will collect validation images\n",
    "em_folder = 'X:\\\\BEP_data\\\\{}\\\\EM'.format(dataset)\n",
    "ho_folder = 'X:\\\\BEP_data\\\\{}\\\\Hoechst'.format(dataset)\n",
    "\n",
    "data_paths = (train_folder, test_folder, em_folder, ho_folder, mask_folder)\n",
    "\n",
    "model_setup.backup_data(data_paths, glob_str, model_name, 'X:\\\\BEP_data\\\\Predict_set', 'X:\\\\BEP_data\\\\Predict_backups')\n"
   ],
   "metadata": {
    "collapsed": false,
    "pycharm": {
     "name": "#%%\n"
    }
   }
  }
 ],
 "metadata": {
  "kernelspec": {
   "name": "pycharm-e1d12fd9",
   "language": "python",
   "display_name": "PyCharm (GPU_BEP_PRACTICE)"
  },
  "language_info": {
   "codemirror_mode": {
    "name": "ipython",
    "version": 2
   },
   "file_extension": ".py",
   "mimetype": "text/x-python",
   "name": "python",
   "nbconvert_exporter": "python",
   "pygments_lexer": "ipython2",
   "version": "2.7.6"
  }
 },
 "nbformat": 4,
 "nbformat_minor": 0
}