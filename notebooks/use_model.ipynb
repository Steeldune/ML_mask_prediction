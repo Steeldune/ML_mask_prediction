{
 "cells": [
  {
   "cell_type": "markdown",
   "metadata": {
    "collapsed": true,
    "pycharm": {
     "name": "#%% md\n"
    }
   },
   "source": [
    "---\n",
    "Using the model\n",
    "===\n",
    "\n",
    "In this notebook, the parameters for using a model are tuned, before activating a prediction."
   ]
  },
  {
   "cell_type": "code",
   "execution_count": 1,
   "outputs": [],
   "source": [
    "import mask_prediction.unet_semantics as model_setup\n",
    "\n",
    "ini_data_path = 'X:\\\\BEP_data\\\\'        #File containing data structure\n",
    "model_name = 'partial_em_points_check'\n",
    "glob_str = '*.png'\n",
    "dataset = 'RL012'"
   ],
   "metadata": {
    "collapsed": false,
    "pycharm": {
     "name": "#%%\n"
    }
   }
  },
  {
   "cell_type": "code",
   "execution_count": 2,
   "outputs": [
    {
     "name": "stdout",
     "output_type": "stream",
     "text": [
      "Found 158 images belonging to 1 classes.\n"
     ]
    }
   ],
   "source": [
    "\n",
    "model_setup.scandirs('X:\\\\BEP_data\\\\Predict_set')\n",
    "\n",
    "model_setup.Use_Model('X:\\\\BEP_Project\\\\Models\\\\{}'.format(model_name), ini_data_path, glob_str, dataset, only_EM=False,\n",
    "          normalize=True)\n",
    "\n",
    "model_setup.backup_data(ini_data_path, dataset, glob_str, model_name, 'X:\\\\BEP_data\\\\Predict_set', 'X:\\\\BEP_data\\\\Predict_backups')\n"
   ],
   "metadata": {
    "collapsed": false,
    "pycharm": {
     "name": "#%%\n"
    }
   }
  }
 ],
 "metadata": {
  "kernelspec": {
   "display_name": "Python 3",
   "language": "python",
   "name": "python3"
  },
  "language_info": {
   "codemirror_mode": {
    "name": "ipython",
    "version": 2
   },
   "file_extension": ".py",
   "mimetype": "text/x-python",
   "name": "python",
   "nbconvert_exporter": "python",
   "pygments_lexer": "ipython2",
   "version": "2.7.6"
  }
 },
 "nbformat": 4,
 "nbformat_minor": 0
}