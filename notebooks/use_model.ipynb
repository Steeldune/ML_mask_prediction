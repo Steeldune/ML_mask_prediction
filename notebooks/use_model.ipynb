{
 "cells": [
  {
   "cell_type": "markdown",
   "metadata": {
    "collapsed": true,
    "pycharm": {
     "name": "#%% md\n"
    }
   },
   "source": [
    "---\n",
    "Using the model\n",
    "===\n",
    "\n",
    "In this notebook, the parameters for using a model are tuned, before activating a prediction."
   ]
  },
  {
   "cell_type": "code",
   "execution_count": 5,
   "outputs": [],
   "source": [
    "import mask_prediction.unet_semantics as model_setup\n",
    "import tensorflow as tf\n",
    "\n",
    "# device = tf.config.list_physical_devices('GPU')\n",
    "# tf.config.experimental.set_memory_growth(device[0], True)\n",
    "# tf.config.experimental.set_virtual_device_configuration(device[0], [tf.config.experimental.VirtualDeviceConfiguration(memory_limit=1024*6)])\n",
    "\n",
    "model_folder = 'X:\\\\BEP_data\\\\Data_Internal\\\\Train_Masks\\\\Predict_set\\\\Model'\n",
    "model_name = 'pancreas_final_train_final'\n",
    "sections = [1,3,4,7,9,10]\n",
    "glob_str_ini = '*_*_*.png'\n",
    "\n",
    "mask_folder = 'X:\\\\BEP_data\\\\Data_External\\\\RL012\\\\Manual_Masks'       #Folder containing manually annotated masks\n",
    "em_folder = 'X:\\\\BEP_data\\\\Data_External\\\\RL012\\\\EM\\\\Collected'\n",
    "ho_folder = 'X:\\\\BEP_data\\\\Data_External\\\\RL012\\\\Hoechst\\\\Collected_raw'\n",
    "\n",
    "gen_folder = 'X:\\\\BEP_data\\\\Data_Internal\\\\Train_Masks'\n",
    "\n",
    "predict_folder = gen_folder + '\\\\Predict_set'\n",
    "train_folder = gen_folder + '\\\\Train_set'#Folder from which the model will collect training images\n",
    "test_folder = gen_folder + '\\\\Test_set'   #Folder from which the model will collect validation images\n",
    "data_paths = (train_folder, test_folder, em_folder, ho_folder, mask_folder)"
   ],
   "metadata": {
    "collapsed": false,
    "pycharm": {
     "name": "#%%\n"
    }
   }
  },
  {
   "cell_type": "code",
   "execution_count": 6,
   "outputs": [
    {
     "name": "stdout",
     "output_type": "stream",
     "text": [
      "Currently Working on section 1\n",
      "Found 36 images belonging to 1 classes.\n",
      "Currently Working on section 3\n",
      "Found 30 images belonging to 1 classes.\n",
      "Currently Working on section 4\n",
      "Found 32 images belonging to 1 classes.\n",
      "Currently Working on section 7\n",
      "Found 16 images belonging to 1 classes.\n",
      "Currently Working on section 9\n",
      "Found 16 images belonging to 1 classes.\n",
      "Currently Working on section 10\n",
      "Found 8 images belonging to 1 classes.\n"
     ]
    },
    {
     "data": {
      "text/plain": "True"
     },
     "execution_count": 6,
     "metadata": {},
     "output_type": "execute_result"
    }
   ],
   "source": [
    "#First the predict set folder has to be empty of images\n",
    "\n",
    "for section in sections:\n",
    "    glob_str = str(section) + '_' + glob_str_ini\n",
    "    print('Currently Working on section {}'.format(section))\n",
    "    model_setup.scandirs(predict_folder + '\\\\Input')\n",
    "    model_setup.Use_Model(model_folder + '\\\\' + model_name, em_folder, ho_folder, glob_str, only_EM=False,\n",
    "          normalize=True, export_path= predict_folder + '\\\\')\n",
    "model_setup.backup_data(data_paths, '*_*_*_*.png', model_name, predict_folder, gen_folder + '\\\\Predict_backups')\n"
   ],
   "metadata": {
    "collapsed": false,
    "pycharm": {
     "name": "#%%\n"
    }
   }
  }
 ],
 "metadata": {
  "kernelspec": {
   "name": "pycharm-e1d12fd9",
   "language": "python",
   "display_name": "PyCharm (GPU_BEP_PRACTICE)"
  },
  "language_info": {
   "codemirror_mode": {
    "name": "ipython",
    "version": 2
   },
   "file_extension": ".py",
   "mimetype": "text/x-python",
   "name": "python",
   "nbconvert_exporter": "python",
   "pygments_lexer": "ipython2",
   "version": "2.7.6"
  }
 },
 "nbformat": 4,
 "nbformat_minor": 0
}