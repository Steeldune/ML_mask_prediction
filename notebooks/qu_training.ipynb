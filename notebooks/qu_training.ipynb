{
 "cells": [
  {
   "cell_type": "markdown",
   "source": [
    "----\n",
    "Qu implementation second half\n",
    "====\n",
    "\n",
    "\n",
    "\n",
    "The steps here are somewhat straightforward:\n",
    "- We take the output of a network, get the control points from it\n",
    "- We generate a voronoi pattern from this, separating the image into sections where we are positive there is only one nucleus.\n",
    "- We use k-means clustering for all pixels, using distance data from the nucleus and using color data to arrive at a segmentation that envelops the nucleus."
   ],
   "metadata": {
    "collapsed": false,
    "pycharm": {
     "name": "#%% md\n"
    }
   }
  },
  {
   "cell_type": "code",
   "execution_count": 21,
   "metadata": {
    "collapsed": true
   },
   "outputs": [],
   "source": [
    "import os\n",
    "\n",
    "import cv2\n",
    "import numpy as np\n",
    "from tqdm import tqdm\n",
    "from skimage.filters.rank import entropy\n",
    "from skimage.morphology import disk\n",
    "from scipy.ndimage import binary_fill_holes\n",
    "\n",
    "from mask_prediction import start_over as qu\n",
    "from mask_prediction import unet_semantics as model_setup\n",
    "from glob import glob\n",
    "\n",
    "def watershed(img, dist_thresh_scale=.4):\n",
    "    \"\"\"\n",
    "    This algorithm performs a form of watershed operation. After some morphological operations,\n",
    "    a distance transform with a threshold will separate cleanly all blobs that would have been too close to do a contour analysis.\n",
    "    :param img: The image to be watershedded.\n",
    "    :param dist_thresh_scale: Ratio of where to put the threshold of the watershedding.\n",
    "    :return: A sure foreground image, alongside an unsure image. The highlighted pixels in unsure could belong to the foreground or the background.\n",
    "    \"\"\"\n",
    "    kernel = np.ones((3,3), np.uint8)\n",
    "    opening = cv2.morphologyEx(img, cv2.MORPH_OPEN, kernel, iterations=1)\n",
    "    sure_bg = cv2.dilate(opening, kernel, iterations=1)\n",
    "    dist_transform = cv2.distanceTransform(opening, cv2.DIST_L2, 5)\n",
    "    _, sure_fg = cv2.threshold(dist_transform, dist_thresh_scale*dist_transform.max(), 255, 0)\n",
    "\n",
    "    sure_fg = np.uint8(sure_fg)\n",
    "    unknown = cv2.subtract(sure_bg, sure_fg)\n",
    "    return sure_fg, unknown"
   ]
  },
  {
   "cell_type": "code",
   "execution_count": 22,
   "outputs": [],
   "source": [
    "IMG_HEIGHT = 1024\n",
    "IMG_WIDTH = 1024\n",
    "\n",
    "nucl_rad = 60\n",
    "\n",
    "run_name = 'zebra_emga_lapga_ho_rad20_cl4'\n",
    "dataset = 'RL015'\n",
    "ini_data_path = 'X:\\\\BEP_data\\\\'                         #File containing data structure\n",
    "em_folder = 'X:\\\\BEP_data\\\\{}\\\\EM'.format(dataset)       #Folder containing the EM datasets\n",
    "ho_folder = 'X:\\\\BEP_data\\\\{}\\\\Hoechst'.format(dataset)  #Folder containing the Hoechst datasets\n",
    "predict_folder = 'X:\\\\BEP_data\\\\Annotation_Iteration\\\\Predict_Backups\\\\qu_zebra_emfm_202_2021-07-22_13-35-06\\\\Output'\n",
    "train_folder = []                                        #Because this notebook does not use Machine Learning, the training and testing folders are not populated.\n",
    "test_folder = []\n",
    "mask_folder = 'X:\\\\BEP_data\\\\RL015\\\\PPA\\\\'\n",
    "nr_clusters = 3\n",
    "fill_holes = True\n",
    "\n",
    "data_paths = (train_folder, test_folder, em_folder, ho_folder, mask_folder)"
   ],
   "metadata": {
    "collapsed": false,
    "pycharm": {
     "name": "#%%\n"
    }
   }
  },
  {
   "cell_type": "markdown",
   "source": [
    "The parameters are set, time to import the masks, and get a list of nuclei positions:"
   ],
   "metadata": {
    "collapsed": false,
    "pycharm": {
     "name": "#%% md\n"
    }
   }
  },
  {
   "cell_type": "code",
   "execution_count": 23,
   "outputs": [],
   "source": [
    "mask_list = glob(predict_folder + '\\\\1_*.png')\n",
    "str_list = [x.split('\\\\')[-1] for x in mask_list]\n",
    "\n",
    "nuclei_dict = {}\n",
    "\n",
    "\"\"\"\n",
    "For every mask in the mask list, the mask is thresholded,\n",
    "watershedded and its countours are analyzed to get at an accurate list of nuclei positions.\n",
    "\n",
    "TODO: The watershedding might be overkill.\n",
    "\"\"\"\n",
    "for mask in mask_list:\n",
    "    img = cv2.imread(mask, cv2.IMREAD_GRAYSCALE)\n",
    "    img_str = mask.split('\\\\')[-1]\n",
    "    _, img_thresh = cv2.threshold(img, int(255*.7), 255, cv2.THRESH_BINARY)\n",
    "\n",
    "    img_wet, unknown = watershed(img_thresh)\n",
    "    cnts, _ = cv2.findContours(img_wet, cv2.RETR_LIST, cv2.CHAIN_APPROX_SIMPLE)\n",
    "    ncls_pts = []\n",
    "    for cnt in cnts:\n",
    "        if cv2.contourArea(cnt) >= 1:\n",
    "            M = cv2.moments(cnt)\n",
    "            coords = [int(M['m10']/M['m00']), int(M['m01']/M['m00'])]\n",
    "            ncls_pts.append(coords)\n",
    "    nuclei_dict[img_str] = ncls_pts\n",
    "\n"
   ],
   "metadata": {
    "collapsed": false,
    "pycharm": {
     "name": "#%%\n"
    }
   }
  },
  {
   "cell_type": "markdown",
   "source": [
    "So now we have a list for every image that we are processing of where the network thought the nuclei are. Now comes the real work, using the positions to generate a voronoi pattern.\n",
    "This pattern will break up the image into segments that contain exactly one nucleus. In the next piece of code, the pattern is calculated,\n",
    "and the data that will be used in k-means clustering is sandwiched. This data will consist of the EM data, the Hoechst data and a distance map based on the average diameter of the nuclei."
   ],
   "metadata": {
    "collapsed": false
   }
  },
  {
   "cell_type": "code",
   "execution_count": 24,
   "outputs": [
    {
     "name": "stdout",
     "output_type": "stream",
     "text": [
      "Currently doing 1_2_5_3.png\n"
     ]
    },
    {
     "name": "stderr",
     "output_type": "stream",
     "text": [
      "100%|██████████| 80/80 [00:06<00:00, 11.99it/s]\n"
     ]
    },
    {
     "name": "stdout",
     "output_type": "stream",
     "text": [
      "Currently doing 1_3_4_3.png\n"
     ]
    },
    {
     "name": "stderr",
     "output_type": "stream",
     "text": [
      "100%|██████████| 244/244 [00:12<00:00, 20.24it/s]\n"
     ]
    },
    {
     "name": "stdout",
     "output_type": "stream",
     "text": [
      "Currently doing 1_3_5_3.png\n"
     ]
    },
    {
     "name": "stderr",
     "output_type": "stream",
     "text": [
      "100%|██████████| 158/158 [00:09<00:00, 16.90it/s]\n"
     ]
    },
    {
     "name": "stdout",
     "output_type": "stream",
     "text": [
      "Currently doing 1_3_7_3.png\n"
     ]
    },
    {
     "name": "stderr",
     "output_type": "stream",
     "text": [
      "100%|██████████| 229/229 [00:11<00:00, 19.15it/s]\n"
     ]
    },
    {
     "name": "stdout",
     "output_type": "stream",
     "text": [
      "Currently doing 1_3_8_3.png\n"
     ]
    },
    {
     "name": "stderr",
     "output_type": "stream",
     "text": [
      "100%|██████████| 196/196 [00:10<00:00, 18.55it/s]\n"
     ]
    },
    {
     "name": "stdout",
     "output_type": "stream",
     "text": [
      "Currently doing 1_3_9_3.png\n"
     ]
    },
    {
     "name": "stderr",
     "output_type": "stream",
     "text": [
      "100%|██████████| 43/43 [00:04<00:00,  9.49it/s]\n"
     ]
    },
    {
     "name": "stdout",
     "output_type": "stream",
     "text": [
      "Currently doing 1_4_10_3.png\n"
     ]
    },
    {
     "name": "stderr",
     "output_type": "stream",
     "text": [
      "100%|██████████| 139/139 [00:08<00:00, 16.49it/s]\n"
     ]
    },
    {
     "name": "stdout",
     "output_type": "stream",
     "text": [
      "Currently doing 1_4_3_3.png\n"
     ]
    },
    {
     "name": "stderr",
     "output_type": "stream",
     "text": [
      "100%|██████████| 101/101 [00:08<00:00, 12.53it/s]\n"
     ]
    },
    {
     "name": "stdout",
     "output_type": "stream",
     "text": [
      "Currently doing 1_4_4_3.png\n"
     ]
    },
    {
     "name": "stderr",
     "output_type": "stream",
     "text": [
      "100%|██████████| 215/215 [00:11<00:00, 18.58it/s]\n"
     ]
    },
    {
     "name": "stdout",
     "output_type": "stream",
     "text": [
      "Currently doing 1_4_5_3.png\n"
     ]
    },
    {
     "name": "stderr",
     "output_type": "stream",
     "text": [
      "100%|██████████| 304/304 [00:14<00:00, 20.65it/s]\n"
     ]
    },
    {
     "name": "stdout",
     "output_type": "stream",
     "text": [
      "Currently doing 1_4_6_3.png\n"
     ]
    },
    {
     "name": "stderr",
     "output_type": "stream",
     "text": [
      "100%|██████████| 265/265 [00:12<00:00, 20.48it/s]\n"
     ]
    },
    {
     "name": "stdout",
     "output_type": "stream",
     "text": [
      "Currently doing 1_4_7_3.png\n"
     ]
    },
    {
     "name": "stderr",
     "output_type": "stream",
     "text": [
      "100%|██████████| 307/307 [00:14<00:00, 21.60it/s]\n"
     ]
    },
    {
     "name": "stdout",
     "output_type": "stream",
     "text": [
      "Currently doing 1_4_8_3.png\n"
     ]
    },
    {
     "name": "stderr",
     "output_type": "stream",
     "text": [
      "100%|██████████| 196/196 [00:10<00:00, 18.25it/s]\n"
     ]
    },
    {
     "name": "stdout",
     "output_type": "stream",
     "text": [
      "Currently doing 1_4_9_3.png\n"
     ]
    },
    {
     "name": "stderr",
     "output_type": "stream",
     "text": [
      "100%|██████████| 188/188 [00:10<00:00, 18.01it/s]\n"
     ]
    },
    {
     "name": "stdout",
     "output_type": "stream",
     "text": [
      "Currently doing 1_5_10_3.png\n"
     ]
    },
    {
     "name": "stderr",
     "output_type": "stream",
     "text": [
      "100%|██████████| 150/150 [00:08<00:00, 17.46it/s]\n"
     ]
    },
    {
     "name": "stdout",
     "output_type": "stream",
     "text": [
      "Currently doing 1_5_11_3.png\n"
     ]
    },
    {
     "name": "stderr",
     "output_type": "stream",
     "text": [
      "100%|██████████| 135/135 [00:08<00:00, 15.44it/s]\n"
     ]
    },
    {
     "name": "stdout",
     "output_type": "stream",
     "text": [
      "Currently doing 1_5_12_3.png\n"
     ]
    },
    {
     "name": "stderr",
     "output_type": "stream",
     "text": [
      "100%|██████████| 114/114 [00:07<00:00, 14.33it/s]\n"
     ]
    },
    {
     "name": "stdout",
     "output_type": "stream",
     "text": [
      "Currently doing 1_5_13_3.png\n"
     ]
    },
    {
     "name": "stderr",
     "output_type": "stream",
     "text": [
      "100%|██████████| 59/59 [00:05<00:00, 10.18it/s]\n"
     ]
    },
    {
     "name": "stdout",
     "output_type": "stream",
     "text": [
      "Currently doing 1_5_3_3.png\n"
     ]
    },
    {
     "name": "stderr",
     "output_type": "stream",
     "text": [
      "100%|██████████| 80/80 [00:06<00:00, 12.38it/s]\n"
     ]
    },
    {
     "name": "stdout",
     "output_type": "stream",
     "text": [
      "Currently doing 1_5_4_3.png\n"
     ]
    },
    {
     "name": "stderr",
     "output_type": "stream",
     "text": [
      "100%|██████████| 154/154 [00:09<00:00, 16.89it/s]\n"
     ]
    },
    {
     "name": "stdout",
     "output_type": "stream",
     "text": [
      "Currently doing 1_5_5_3.png\n"
     ]
    },
    {
     "name": "stderr",
     "output_type": "stream",
     "text": [
      "100%|██████████| 148/148 [00:08<00:00, 16.65it/s]\n"
     ]
    },
    {
     "name": "stdout",
     "output_type": "stream",
     "text": [
      "Currently doing 1_5_6_3.png\n"
     ]
    },
    {
     "name": "stderr",
     "output_type": "stream",
     "text": [
      "100%|██████████| 204/204 [00:11<00:00, 18.50it/s]\n"
     ]
    },
    {
     "name": "stdout",
     "output_type": "stream",
     "text": [
      "Currently doing 1_5_7_3.png\n"
     ]
    },
    {
     "name": "stderr",
     "output_type": "stream",
     "text": [
      "100%|██████████| 182/182 [00:09<00:00, 18.81it/s]\n"
     ]
    },
    {
     "name": "stdout",
     "output_type": "stream",
     "text": [
      "Currently doing 1_5_8_3.png\n"
     ]
    },
    {
     "name": "stderr",
     "output_type": "stream",
     "text": [
      "100%|██████████| 138/138 [00:08<00:00, 16.77it/s]\n"
     ]
    },
    {
     "name": "stdout",
     "output_type": "stream",
     "text": [
      "Currently doing 1_5_9_3.png\n"
     ]
    },
    {
     "name": "stderr",
     "output_type": "stream",
     "text": [
      "100%|██████████| 146/146 [00:08<00:00, 17.02it/s]\n"
     ]
    },
    {
     "name": "stdout",
     "output_type": "stream",
     "text": [
      "Currently doing 1_6_10_3.png\n"
     ]
    },
    {
     "name": "stderr",
     "output_type": "stream",
     "text": [
      "100%|██████████| 295/295 [00:13<00:00, 21.33it/s]\n"
     ]
    },
    {
     "name": "stdout",
     "output_type": "stream",
     "text": [
      "Currently doing 1_6_11_3.png\n"
     ]
    },
    {
     "name": "stderr",
     "output_type": "stream",
     "text": [
      "100%|██████████| 288/288 [00:13<00:00, 20.84it/s]\n"
     ]
    },
    {
     "name": "stdout",
     "output_type": "stream",
     "text": [
      "Currently doing 1_6_12_3.png\n"
     ]
    },
    {
     "name": "stderr",
     "output_type": "stream",
     "text": [
      "100%|██████████| 179/179 [00:09<00:00, 18.58it/s]\n"
     ]
    },
    {
     "name": "stdout",
     "output_type": "stream",
     "text": [
      "Currently doing 1_6_3_3.png\n"
     ]
    },
    {
     "name": "stderr",
     "output_type": "stream",
     "text": [
      "100%|██████████| 214/214 [00:11<00:00, 19.42it/s]\n"
     ]
    },
    {
     "name": "stdout",
     "output_type": "stream",
     "text": [
      "Currently doing 1_6_4_3.png\n"
     ]
    },
    {
     "name": "stderr",
     "output_type": "stream",
     "text": [
      "100%|██████████| 272/272 [00:12<00:00, 21.18it/s]\n"
     ]
    },
    {
     "name": "stdout",
     "output_type": "stream",
     "text": [
      "Currently doing 1_6_5_3.png\n"
     ]
    },
    {
     "name": "stderr",
     "output_type": "stream",
     "text": [
      "100%|██████████| 280/280 [00:13<00:00, 20.69it/s]\n"
     ]
    },
    {
     "name": "stdout",
     "output_type": "stream",
     "text": [
      "Currently doing 1_6_6_3.png\n"
     ]
    },
    {
     "name": "stderr",
     "output_type": "stream",
     "text": [
      "100%|██████████| 169/169 [00:09<00:00, 17.76it/s]\n"
     ]
    },
    {
     "name": "stdout",
     "output_type": "stream",
     "text": [
      "Currently doing 1_6_7_3.png\n"
     ]
    },
    {
     "name": "stderr",
     "output_type": "stream",
     "text": [
      "100%|██████████| 234/234 [00:11<00:00, 19.85it/s]\n"
     ]
    },
    {
     "name": "stdout",
     "output_type": "stream",
     "text": [
      "Currently doing 1_6_8_3.png\n"
     ]
    },
    {
     "name": "stderr",
     "output_type": "stream",
     "text": [
      "100%|██████████| 163/163 [00:09<00:00, 17.25it/s]\n"
     ]
    },
    {
     "name": "stdout",
     "output_type": "stream",
     "text": [
      "Currently doing 1_6_9_3.png\n"
     ]
    },
    {
     "name": "stderr",
     "output_type": "stream",
     "text": [
      "100%|██████████| 271/271 [00:13<00:00, 20.19it/s]\n"
     ]
    },
    {
     "name": "stdout",
     "output_type": "stream",
     "text": [
      "Currently doing 1_7_10_3.png\n"
     ]
    },
    {
     "name": "stderr",
     "output_type": "stream",
     "text": [
      "100%|██████████| 310/310 [00:15<00:00, 20.50it/s]\n"
     ]
    },
    {
     "name": "stdout",
     "output_type": "stream",
     "text": [
      "Currently doing 1_7_11_3.png\n"
     ]
    },
    {
     "name": "stderr",
     "output_type": "stream",
     "text": [
      "100%|██████████| 259/259 [00:12<00:00, 20.45it/s]\n"
     ]
    },
    {
     "name": "stdout",
     "output_type": "stream",
     "text": [
      "Currently doing 1_7_12_3.png\n"
     ]
    },
    {
     "name": "stderr",
     "output_type": "stream",
     "text": [
      "100%|██████████| 153/153 [00:08<00:00, 17.15it/s]\n"
     ]
    },
    {
     "name": "stdout",
     "output_type": "stream",
     "text": [
      "Currently doing 1_7_3_3.png\n"
     ]
    },
    {
     "name": "stderr",
     "output_type": "stream",
     "text": [
      "100%|██████████| 255/255 [00:12<00:00, 19.98it/s]\n"
     ]
    },
    {
     "name": "stdout",
     "output_type": "stream",
     "text": [
      "Currently doing 1_7_4_3.png\n"
     ]
    },
    {
     "name": "stderr",
     "output_type": "stream",
     "text": [
      "100%|██████████| 124/124 [00:07<00:00, 15.70it/s]\n"
     ]
    },
    {
     "name": "stdout",
     "output_type": "stream",
     "text": [
      "Currently doing 1_7_5_3.png\n"
     ]
    },
    {
     "name": "stderr",
     "output_type": "stream",
     "text": [
      "100%|██████████| 143/143 [00:08<00:00, 17.18it/s]\n"
     ]
    },
    {
     "name": "stdout",
     "output_type": "stream",
     "text": [
      "Currently doing 1_7_6_3.png\n"
     ]
    },
    {
     "name": "stderr",
     "output_type": "stream",
     "text": [
      "100%|██████████| 315/315 [00:14<00:00, 21.76it/s]\n"
     ]
    },
    {
     "name": "stdout",
     "output_type": "stream",
     "text": [
      "Currently doing 1_7_7_3.png\n"
     ]
    },
    {
     "name": "stderr",
     "output_type": "stream",
     "text": [
      "100%|██████████| 182/182 [00:09<00:00, 18.43it/s]\n"
     ]
    },
    {
     "name": "stdout",
     "output_type": "stream",
     "text": [
      "Currently doing 1_7_8_3.png\n"
     ]
    },
    {
     "name": "stderr",
     "output_type": "stream",
     "text": [
      "100%|██████████| 129/129 [00:08<00:00, 16.05it/s]\n"
     ]
    },
    {
     "name": "stdout",
     "output_type": "stream",
     "text": [
      "Currently doing 1_7_9_3.png\n"
     ]
    },
    {
     "name": "stderr",
     "output_type": "stream",
     "text": [
      "100%|██████████| 320/320 [00:15<00:00, 20.87it/s]\n"
     ]
    },
    {
     "name": "stdout",
     "output_type": "stream",
     "text": [
      "Currently doing 1_8_10_3.png\n"
     ]
    },
    {
     "name": "stderr",
     "output_type": "stream",
     "text": [
      "100%|██████████| 278/278 [00:13<00:00, 20.05it/s]\n"
     ]
    },
    {
     "name": "stdout",
     "output_type": "stream",
     "text": [
      "Currently doing 1_8_11_3.png\n"
     ]
    },
    {
     "name": "stderr",
     "output_type": "stream",
     "text": [
      "100%|██████████| 188/188 [00:09<00:00, 19.40it/s]\n"
     ]
    },
    {
     "name": "stdout",
     "output_type": "stream",
     "text": [
      "Currently doing 1_8_12_3.png\n"
     ]
    },
    {
     "name": "stderr",
     "output_type": "stream",
     "text": [
      "100%|██████████| 213/213 [00:10<00:00, 19.41it/s]\n"
     ]
    },
    {
     "name": "stdout",
     "output_type": "stream",
     "text": [
      "Currently doing 1_8_3_3.png\n"
     ]
    },
    {
     "name": "stderr",
     "output_type": "stream",
     "text": [
      "100%|██████████| 40/40 [00:04<00:00,  8.40it/s]\n"
     ]
    },
    {
     "name": "stdout",
     "output_type": "stream",
     "text": [
      "Currently doing 1_8_4_3.png\n"
     ]
    },
    {
     "name": "stderr",
     "output_type": "stream",
     "text": [
      "100%|██████████| 47/47 [00:04<00:00, 10.61it/s]\n"
     ]
    },
    {
     "name": "stdout",
     "output_type": "stream",
     "text": [
      "Currently doing 1_8_5_3.png\n"
     ]
    },
    {
     "name": "stderr",
     "output_type": "stream",
     "text": [
      "100%|██████████| 114/114 [00:07<00:00, 14.96it/s]\n"
     ]
    },
    {
     "name": "stdout",
     "output_type": "stream",
     "text": [
      "Currently doing 1_8_6_3.png\n"
     ]
    },
    {
     "name": "stderr",
     "output_type": "stream",
     "text": [
      "100%|██████████| 300/300 [00:14<00:00, 20.94it/s]\n"
     ]
    },
    {
     "name": "stdout",
     "output_type": "stream",
     "text": [
      "Currently doing 1_8_7_3.png\n"
     ]
    },
    {
     "name": "stderr",
     "output_type": "stream",
     "text": [
      "100%|██████████| 217/217 [00:11<00:00, 19.67it/s]\n"
     ]
    },
    {
     "name": "stdout",
     "output_type": "stream",
     "text": [
      "Currently doing 1_8_8_3.png\n"
     ]
    },
    {
     "name": "stderr",
     "output_type": "stream",
     "text": [
      "100%|██████████| 156/156 [00:09<00:00, 16.83it/s]\n"
     ]
    },
    {
     "name": "stdout",
     "output_type": "stream",
     "text": [
      "Currently doing 1_8_9_3.png\n"
     ]
    },
    {
     "name": "stderr",
     "output_type": "stream",
     "text": [
      "100%|██████████| 168/168 [00:09<00:00, 17.00it/s]\n"
     ]
    },
    {
     "name": "stdout",
     "output_type": "stream",
     "text": [
      "Currently doing 1_9_10_3.png\n"
     ]
    },
    {
     "name": "stderr",
     "output_type": "stream",
     "text": [
      "100%|██████████| 115/115 [00:08<00:00, 14.20it/s]\n"
     ]
    },
    {
     "name": "stdout",
     "output_type": "stream",
     "text": [
      "Currently doing 1_9_11_3.png\n"
     ]
    },
    {
     "name": "stderr",
     "output_type": "stream",
     "text": [
      "100%|██████████| 96/96 [00:07<00:00, 12.92it/s]\n"
     ]
    },
    {
     "name": "stdout",
     "output_type": "stream",
     "text": [
      "Currently doing 1_9_5_3.png\n"
     ]
    },
    {
     "name": "stderr",
     "output_type": "stream",
     "text": [
      "100%|██████████| 60/60 [00:05<00:00, 10.74it/s]\n"
     ]
    },
    {
     "name": "stdout",
     "output_type": "stream",
     "text": [
      "Currently doing 1_9_6_3.png\n"
     ]
    },
    {
     "name": "stderr",
     "output_type": "stream",
     "text": [
      "100%|██████████| 88/88 [00:06<00:00, 13.74it/s]\n"
     ]
    },
    {
     "name": "stdout",
     "output_type": "stream",
     "text": [
      "Currently doing 1_9_7_3.png\n"
     ]
    },
    {
     "name": "stderr",
     "output_type": "stream",
     "text": [
      "100%|██████████| 70/70 [00:05<00:00, 12.43it/s]\n"
     ]
    },
    {
     "name": "stdout",
     "output_type": "stream",
     "text": [
      "Currently doing 1_9_8_3.png\n"
     ]
    },
    {
     "name": "stderr",
     "output_type": "stream",
     "text": [
      "100%|██████████| 121/121 [00:07<00:00, 15.36it/s]\n"
     ]
    },
    {
     "name": "stdout",
     "output_type": "stream",
     "text": [
      "Currently doing 1_9_9_3.png\n"
     ]
    },
    {
     "name": "stderr",
     "output_type": "stream",
     "text": [
      "100%|██████████| 132/132 [00:08<00:00, 16.35it/s]\n"
     ]
    },
    {
     "name": "stdout",
     "output_type": "stream",
     "text": [
      "All done!\n"
     ]
    }
   ],
   "source": [
    "\"\"\"\n",
    "In order to facilitate the distance threshold later, a distance limit map is made,\n",
    "filled with the square of the diameter of an average nucleus.\n",
    "\n",
    "Mesh grids are also generated to aid many other operations down the line. One prominent is the rescaling of 2d arrays\n",
    "into 1d arrays. Having a mesh grid in that rescaling will keep track of where the pixel belongs in the original image.\n",
    "\"\"\"\n",
    "\n",
    "num_range = np.arange(0, 1024, 1, dtype=np.int32)\n",
    "dist_limit = nucl_rad * nucl_rad\n",
    "dist_limit_map = np.ones((IMG_WIDTH, IMG_HEIGHT), np.int32) * dist_limit\n",
    "\n",
    "x_meshgrid, y_meshgrid = np.meshgrid(num_range, num_range)\n",
    "\n",
    "for image in os.listdir('X:\\\\BEP_data\\\\Annotation_Iteration\\\\Generated_set\\\\Output'):\n",
    "    os.remove('X:\\\\BEP_data\\\\Annotation_Iteration\\\\Generated_set\\\\Output\\\\' + image)\n",
    "\n",
    "for key in nuclei_dict:\n",
    "    print('Currently doing {}'.format(key))\n",
    "\n",
    "\n",
    "    \"\"\"\n",
    "    This block of code generates the lines for a Voronoi pattern. The partitions of which will be used later.\n",
    "    \"\"\"\n",
    "    div2d = cv2.Subdiv2D()\n",
    "    div2d.initDelaunay((0,0,IMG_WIDTH, IMG_HEIGHT))\n",
    "    div2d.insert(nuclei_dict[key])\n",
    "    vor_list, pnts = div2d.getVoronoiFacetList([])\n",
    "\n",
    "    \"\"\"\n",
    "    This block of code generates a distance map for the current image. This is done here, because there are not any\n",
    "    freely avaliable distance map algorithms to take advantage of.\n",
    "    \"\"\"\n",
    "    dist_map_sq_tot = dist_limit_map\n",
    "    for pnt in nuclei_dict[key]:\n",
    "        x_meshgrid_s = np.abs(x_meshgrid - pnt[0])\n",
    "        y_meshgrid_s = np.abs(y_meshgrid - pnt[1])\n",
    "        x_meshgrid_s = np.square(x_meshgrid_s)\n",
    "        y_meshgrid_s = np.square(y_meshgrid_s)\n",
    "        dist_map_sq = x_meshgrid_s + y_meshgrid_s\n",
    "        dist_map_sq = np.minimum(dist_map_sq, dist_limit_map)\n",
    "        dist_map_sq_tot = np.minimum(dist_map_sq, dist_map_sq_tot)\n",
    "    dist_map = np.sqrt(dist_map_sq_tot)/nucl_rad\n",
    "    dist_map_uint = np.array(dist_map*255, np.uint8)\n",
    "\n",
    "    \"\"\"\n",
    "    The next block of code generates various filters from the EM data, and imports the HO data as well.\n",
    "    \"\"\"\n",
    "    em_img = cv2.imread(em_folder + '\\\\Collected\\\\' + key, cv2.IMREAD_GRAYSCALE)\n",
    "    em_bil_img = cv2.bilateralFilter(em_img, 7 , 75, 75)\n",
    "    em_gauss_img = cv2.GaussianBlur(em_img, (3,3), 3)\n",
    "    ho_img = cv2.imread(ho_folder + '\\\\Collected\\\\' + key, cv2.IMREAD_GRAYSCALE)\n",
    "    lap_img = cv2.Laplacian(em_gauss_img, cv2.CV_8U)\n",
    "    lap_img = cv2.normalize(lap_img,None, 255, 0, cv2.NORM_MINMAX)\n",
    "    em_entr_img = entropy(em_gauss_img, disk(7))\n",
    "    em_entr_img  = (em_entr_img*255).astype(np.uint8)\n",
    "    em_entr_img = cv2.normalize(em_entr_img, None, 255, 0, cv2.NORM_MINMAX)\n",
    "\n",
    "    em_sobel_x_img = cv2.Sobel(em_gauss_img, cv2.CV_16S, 1, 0, ksize=3, scale=1, delta=0, borderType=cv2.BORDER_DEFAULT)\n",
    "    em_sobel_y_img = cv2.Sobel(em_gauss_img, cv2.CV_16S, 0, 1, ksize=3, scale=1, delta=0, borderType=cv2.BORDER_DEFAULT)\n",
    "\n",
    "    em_sobel_x_abs_img = cv2.convertScaleAbs(em_sobel_x_img)\n",
    "    em_sobel_y_abs_img = cv2.convertScaleAbs(em_sobel_y_img)\n",
    "\n",
    "    em_sobel_img = cv2.addWeighted(em_sobel_x_abs_img, .5, em_sobel_y_abs_img, .5, 0)\n",
    "\n",
    "    \"\"\"\n",
    "    Now that all the filters have been generated for the current image, they are assembled into a giant sandwich.\n",
    "    The contents of the sandwich can be changed from run to run, and it is made as accessible as possible.\n",
    "    Just make sure to adjust the second number in the reshape function to the amount of filters that are put into the sandwich.\n",
    "    The x_meshgrid and the y_meshgrid do need to stay in the sandwich, they allow for selection between different pixels\n",
    "    belonging to different voronoi partitions.\n",
    "    \"\"\"\n",
    "    sandwich = np.dstack((y_meshgrid, x_meshgrid, dist_map_uint, em_gauss_img, lap_img, ho_img))\n",
    "    sandwich_r = np.reshape(sandwich, (-1, 6))\n",
    "\n",
    "    label_map = np.zeros((IMG_WIDTH, IMG_HEIGHT), dtype=np.uint8)\n",
    "    em_show = em_img\n",
    "    for facet in tqdm(vor_list):\n",
    "        facet_uint = np.array(facet, np.int32)\n",
    "        mask = np.zeros((IMG_WIDTH, IMG_HEIGHT), dtype=np.uint8)\n",
    "        mask = cv2.drawContours(mask, [facet_uint], -1, 255, -1, cv2.LINE_8)\n",
    "        em_show = cv2.drawContours(em_show, [facet_uint], -1, 255, 2)\n",
    "        mask_bool = mask == 255\n",
    "        mask_bool_r = np.reshape(mask_bool, -1)\n",
    "\n",
    "        flist = sandwich_r[mask_bool_r]\n",
    "        labels = qu.color_k_means(flist, cluster_nr=nr_clusters)*(int(255/nr_clusters))\n",
    "        label_map += labels\n",
    "\n",
    "    label_floodfill = qu.get_floodfill(label_map, nuclei_dict[key], margin=2)\n",
    "\n",
    "    img_EM_clustered_floodfill = np.where(label_floodfill == 0, 255, 0)\n",
    "    img_EM_clustered_floodfill = (img_EM_clustered_floodfill).astype(np.uint8)\n",
    "\n",
    "    if fill_holes:\n",
    "        img_EM_clustered_floodfill = binary_fill_holes(img_EM_clustered_floodfill/255)\n",
    "        img_EM_clustered_floodfill = img_EM_clustered_floodfill.astype(np.uint8)*255\n",
    "\n",
    "    cv2.imwrite('X:\\\\BEP_data\\\\Annotation_Iteration\\\\Generated_set\\\\Output\\\\' + key, img_EM_clustered_floodfill)\n",
    "model_setup.backup_data(data_paths, '*.png', run_name, 'X:\\\\BEP_data\\\\Annotation_Iteration\\\\Generated_set', 'X:\\\\BEP_data\\\\Annotation_Iteration\\\\Generated_backups', img_strs=str_list)\n",
    "\n",
    "print('All done!')"
   ],
   "metadata": {
    "collapsed": false,
    "pycharm": {
     "name": "#%%\n"
    }
   }
  }
 ],
 "metadata": {
  "kernelspec": {
   "name": "pycharm-e1d12fd9",
   "language": "python",
   "display_name": "PyCharm (GPU_BEP_PRACTICE)"
  },
  "language_info": {
   "codemirror_mode": {
    "name": "ipython",
    "version": 2
   },
   "file_extension": ".py",
   "mimetype": "text/x-python",
   "name": "python",
   "nbconvert_exporter": "python",
   "pygments_lexer": "ipython2",
   "version": "2.7.6"
  }
 },
 "nbformat": 4,
 "nbformat_minor": 0
}